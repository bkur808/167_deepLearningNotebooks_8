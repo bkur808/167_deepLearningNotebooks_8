{
  "cells": [
    {
      "cell_type": "markdown",
      "metadata": {
        "colab_type": "text",
        "id": "view-in-github"
      },
      "source": [
        "<a href=\"https://colab.research.google.com/github/udlbook/udlbook/blob/main/Notebooks/Chap08/8_1_MNIST_1D_Performance.ipynb\" target=\"_parent\"><img src=\"https://colab.research.google.com/assets/colab-badge.svg\" alt=\"Open In Colab\"/></a>"
      ]
    },
    {
      "cell_type": "markdown",
      "metadata": {
        "id": "L6chybAVFJW2"
      },
      "source": [
        "# **Notebook 8.1: MNIST_1D_Performance**\n",
        "\n",
        "This notebook runs a simple neural network on the MNIST1D dataset as in figure 8.2a. It uses code from https://github.com/greydanus/mnist1d to generate the data.\n",
        "\n",
        "Work through the cells below, running each cell in turn. In various places you will see the words \"TO DO\". Follow the instructions at these places and make predictions about what is going to happen or write code to complete the functions.\n",
        "\n",
        "Contact me at udlbookmail@gmail.com if you find any mistakes or have any suggestions."
      ]
    },
    {
      "cell_type": "code",
      "execution_count": 1,
      "metadata": {
        "id": "ifVjS4cTOqKz"
      },
      "outputs": [
        {
          "ename": "SyntaxError",
          "evalue": "invalid syntax (2112593123.py, line 2)",
          "output_type": "error",
          "traceback": [
            "\u001b[0;36m  File \u001b[0;32m\"/tmp/ipykernel_1819/2112593123.py\"\u001b[0;36m, line \u001b[0;32m2\u001b[0m\n\u001b[0;31m    pip install git+https://github.com/greydanus/mnist1d\u001b[0m\n\u001b[0m        ^\u001b[0m\n\u001b[0;31mSyntaxError\u001b[0m\u001b[0;31m:\u001b[0m invalid syntax\n"
          ]
        }
      ],
      "source": [
        "# Run this if you're in a Colab to install MNIST 1D repository\n",
        "pip install git+https://github.com/greydanus/mnist1d"
      ]
    },
    {
      "cell_type": "code",
      "execution_count": 5,
      "metadata": {
        "id": "qyE7G1StPIqO"
      },
      "outputs": [],
      "source": [
        "import torch, torch.nn as nn\n",
        "from torch.utils.data import TensorDataset, DataLoader\n",
        "from torch.optim.lr_scheduler import StepLR\n",
        "import numpy as np\n",
        "import matplotlib.pyplot as plt\n",
        "import mnist1d"
      ]
    },
    {
      "cell_type": "markdown",
      "metadata": {
        "id": "F7LNq72SP6jO"
      },
      "source": [
        "Let's generate a training and test dataset using the MNIST1D code.  The dataset gets saved as a .pkl file so it doesn't have to be regenerated each time."
      ]
    },
    {
      "cell_type": "code",
      "execution_count": 6,
      "metadata": {
        "id": "YLxf7dJfPaqw"
      },
      "outputs": [
        {
          "name": "stdout",
          "output_type": "stream",
          "text": [
            "Did or could not load data from ./mnist1d_data.pkl. Rebuilding dataset...\n",
            "Examples in training set: 4000\n",
            "Examples in test set: 1000\n",
            "Length of each example: 40\n"
          ]
        }
      ],
      "source": [
        "args = mnist1d.data.get_dataset_args()\n",
        "data = mnist1d.data.get_dataset(args, path='./mnist1d_data.pkl', download=False, regenerate=False)\n",
        "\n",
        "# The training and test input and outputs are in\n",
        "# data['x'], data['y'], data['x_test'], and data['y_test']\n",
        "print(\"Examples in training set: {}\".format(len(data['y'])))\n",
        "print(\"Examples in test set: {}\".format(len(data['y_test'])))\n",
        "print(\"Length of each example: {}\".format(data['x'].shape[-1]))"
      ]
    },
    {
      "cell_type": "code",
      "execution_count": 9,
      "metadata": {
        "id": "FxaB5vc0uevl"
      },
      "outputs": [
        {
          "data": {
            "text/plain": [
              "Sequential(\n",
              "  (0): Linear(in_features=40, out_features=100, bias=True)\n",
              "  (1): ReLU()\n",
              "  (2): Linear(in_features=100, out_features=100, bias=True)\n",
              "  (3): ReLU()\n",
              "  (4): Linear(in_features=100, out_features=10, bias=True)\n",
              ")"
            ]
          },
          "execution_count": 9,
          "metadata": {},
          "output_type": "execute_result"
        }
      ],
      "source": [
        "D_i = 40    # Input dimensions\n",
        "D_k = 100   # Hidden dimensions\n",
        "D_o = 10    # Output dimensions\n",
        "# TO DO:\n",
        "# Define a model with two hidden layers of size 100\n",
        "# And ReLU activations between them\n",
        "# Replace this line (see Figure 7.8 of book for help):\n",
        "model = torch.nn.Sequential(\n",
        "  nn.Linear(D_i, D_k),\n",
        "  nn.ReLU(),\n",
        "  nn.Linear(D_k,D_k),\n",
        "  nn.ReLU(),\n",
        "  nn.Linear(D_k, D_o)\n",
        "  );\n",
        "\n",
        "\n",
        "def weights_init(layer_in):\n",
        "  # TO DO:\n",
        "  # Initialize the parameters with He initialization\n",
        "  # Replace this line (see figure 7.8 of book for help)\n",
        "  if isinstance(layer_in, nn.Linear):\n",
        "    nn.init.kaiming_normal_(layer_in.weight)\n",
        "    layer_in.bias.data.fill_(0.0)\n",
        "model.apply(weights_init)\n",
        "\n",
        "\n",
        "# Call the function you just defined\n",
        "model.apply(weights_init)\n"
      ]
    },
    {
      "cell_type": "code",
      "execution_count": 10,
      "metadata": {
        "id": "_rX6N3VyyQTY"
      },
      "outputs": [
        {
          "name": "stdout",
          "output_type": "stream",
          "text": [
            "Epoch     0, train loss 1.637635, train error 65.85,  test loss 1.703044, test error 68.80\n",
            "Epoch     1, train loss 1.390950, train error 53.62,  test loss 1.514884, test error 60.30\n",
            "Epoch     2, train loss 1.186312, train error 44.35,  test loss 1.370876, test error 51.60\n",
            "Epoch     3, train loss 1.010040, train error 36.50,  test loss 1.235637, test error 49.60\n",
            "Epoch     4, train loss 0.915525, train error 33.03,  test loss 1.224305, test error 48.10\n",
            "Epoch     5, train loss 0.788920, train error 28.82,  test loss 1.113975, test error 45.60\n",
            "Epoch     6, train loss 0.709673, train error 24.30,  test loss 1.118460, test error 43.80\n",
            "Epoch     7, train loss 0.599000, train error 19.95,  test loss 1.067473, test error 40.80\n",
            "Epoch     8, train loss 0.584903, train error 21.12,  test loss 1.112042, test error 41.60\n",
            "Epoch     9, train loss 0.509956, train error 17.22,  test loss 1.054401, test error 38.20\n",
            "Epoch    10, train loss 0.406675, train error 11.78,  test loss 1.035485, test error 39.30\n",
            "Epoch    11, train loss 0.378305, train error 10.82,  test loss 1.031313, test error 38.80\n",
            "Epoch    12, train loss 0.334975, train error 8.72,  test loss 1.027794, test error 37.80\n",
            "Epoch    13, train loss 0.310726, train error 7.43,  test loss 1.045169, test error 38.30\n",
            "Epoch    14, train loss 0.288998, train error 7.53,  test loss 1.055486, test error 38.30\n",
            "Epoch    15, train loss 0.277166, train error 7.05,  test loss 1.097392, test error 37.10\n",
            "Epoch    16, train loss 0.238924, train error 5.45,  test loss 1.092684, test error 37.50\n",
            "Epoch    17, train loss 0.221375, train error 5.00,  test loss 1.133449, test error 38.60\n",
            "Epoch    18, train loss 0.198594, train error 3.75,  test loss 1.137090, test error 37.20\n",
            "Epoch    19, train loss 0.186976, train error 3.75,  test loss 1.131590, test error 37.00\n",
            "Epoch    20, train loss 0.156909, train error 2.12,  test loss 1.129140, test error 36.80\n",
            "Epoch    21, train loss 0.145788, train error 1.60,  test loss 1.134003, test error 36.60\n",
            "Epoch    22, train loss 0.140457, train error 1.40,  test loss 1.143618, test error 36.70\n",
            "Epoch    23, train loss 0.135754, train error 1.50,  test loss 1.175342, test error 37.30\n",
            "Epoch    24, train loss 0.128492, train error 1.18,  test loss 1.189616, test error 35.90\n",
            "Epoch    25, train loss 0.121174, train error 0.85,  test loss 1.184671, test error 36.60\n",
            "Epoch    26, train loss 0.114783, train error 0.68,  test loss 1.181280, test error 36.40\n",
            "Epoch    27, train loss 0.108646, train error 0.57,  test loss 1.214181, test error 36.80\n",
            "Epoch    28, train loss 0.101270, train error 0.55,  test loss 1.216004, test error 36.40\n",
            "Epoch    29, train loss 0.098122, train error 0.38,  test loss 1.214617, test error 35.80\n",
            "Epoch    30, train loss 0.092772, train error 0.28,  test loss 1.225580, test error 36.20\n",
            "Epoch    31, train loss 0.090273, train error 0.25,  test loss 1.234133, test error 35.60\n",
            "Epoch    32, train loss 0.088370, train error 0.28,  test loss 1.237147, test error 36.10\n",
            "Epoch    33, train loss 0.087153, train error 0.20,  test loss 1.248270, test error 36.40\n",
            "Epoch    34, train loss 0.084301, train error 0.15,  test loss 1.244423, test error 35.60\n",
            "Epoch    35, train loss 0.082408, train error 0.22,  test loss 1.258976, test error 36.00\n",
            "Epoch    36, train loss 0.081124, train error 0.18,  test loss 1.260124, test error 36.40\n",
            "Epoch    37, train loss 0.078411, train error 0.12,  test loss 1.265794, test error 35.70\n",
            "Epoch    38, train loss 0.076557, train error 0.15,  test loss 1.266239, test error 35.60\n",
            "Epoch    39, train loss 0.075015, train error 0.10,  test loss 1.273355, test error 36.10\n",
            "Epoch    40, train loss 0.073855, train error 0.12,  test loss 1.277316, test error 35.70\n",
            "Epoch    41, train loss 0.073153, train error 0.10,  test loss 1.278592, test error 36.40\n",
            "Epoch    42, train loss 0.072222, train error 0.10,  test loss 1.284857, test error 36.00\n",
            "Epoch    43, train loss 0.071417, train error 0.10,  test loss 1.283653, test error 35.60\n",
            "Epoch    44, train loss 0.070776, train error 0.10,  test loss 1.288155, test error 35.90\n",
            "Epoch    45, train loss 0.069906, train error 0.10,  test loss 1.287741, test error 35.60\n",
            "Epoch    46, train loss 0.069329, train error 0.10,  test loss 1.291976, test error 36.40\n",
            "Epoch    47, train loss 0.068578, train error 0.12,  test loss 1.296577, test error 36.00\n",
            "Epoch    48, train loss 0.067798, train error 0.07,  test loss 1.294367, test error 36.10\n",
            "Epoch    49, train loss 0.067240, train error 0.05,  test loss 1.298169, test error 35.70\n"
          ]
        }
      ],
      "source": [
        "# choose cross entropy loss function (equation 5.24)\n",
        "loss_function = torch.nn.CrossEntropyLoss()\n",
        "# construct SGD optimizer and initialize learning rate and momentum\n",
        "optimizer = torch.optim.SGD(model.parameters(), lr = 0.05, momentum=0.9)\n",
        "# object that decreases learning rate by half every 10 epochs\n",
        "scheduler = StepLR(optimizer, step_size=10, gamma=0.5)\n",
        "x_train = torch.tensor(data['x'].astype('float32'))\n",
        "y_train = torch.tensor(data['y'].transpose().astype('int64'))\n",
        "x_test= torch.tensor(data['x_test'].astype('float32'))\n",
        "y_test = torch.tensor(data['y_test'].astype('int64'))\n",
        "\n",
        "# load the data into a class that creates the batches\n",
        "data_loader = DataLoader(TensorDataset(x_train,y_train), batch_size=100, shuffle=True, worker_init_fn=np.random.seed(1))\n",
        "\n",
        "# Initialize model weights\n",
        "model.apply(weights_init)\n",
        "\n",
        "# loop over the dataset n_epoch times\n",
        "n_epoch = 50\n",
        "# store the loss and the % correct at each epoch\n",
        "losses_train = np.zeros((n_epoch))\n",
        "errors_train = np.zeros((n_epoch))\n",
        "losses_test = np.zeros((n_epoch))\n",
        "errors_test = np.zeros((n_epoch))\n",
        "\n",
        "for epoch in range(n_epoch):\n",
        "  # loop over batches\n",
        "  for i, batch in enumerate(data_loader):\n",
        "    # retrieve inputs and labels for this batch\n",
        "    x_batch, y_batch = batch\n",
        "    # zero the parameter gradients\n",
        "    optimizer.zero_grad()\n",
        "    # forward pass -- calculate model output\n",
        "    pred = model(x_batch)\n",
        "    # compute the loss\n",
        "    loss = loss_function(pred, y_batch)\n",
        "    # backward pass\n",
        "    loss.backward()\n",
        "    # SGD update\n",
        "    optimizer.step()\n",
        "\n",
        "  # Run whole dataset to get statistics -- normally wouldn't do this\n",
        "  pred_train = model(x_train)\n",
        "  pred_test = model(x_test)\n",
        "  _, predicted_train_class = torch.max(pred_train.data, 1)\n",
        "  _, predicted_test_class = torch.max(pred_test.data, 1)\n",
        "  errors_train[epoch] = 100 - 100 * (predicted_train_class == y_train).float().sum() / len(y_train)\n",
        "  errors_test[epoch]= 100 - 100 * (predicted_test_class == y_test).float().sum() / len(y_test)\n",
        "  losses_train[epoch] = loss_function(pred_train, y_train).item()\n",
        "  losses_test[epoch]= loss_function(pred_test, y_test).item()\n",
        "  print(f'Epoch {epoch:5d}, train loss {losses_train[epoch]:.6f}, train error {errors_train[epoch]:3.2f},  test loss {losses_test[epoch]:.6f}, test error {errors_test[epoch]:3.2f}')\n",
        "\n",
        "  # tell scheduler to consider updating learning rate\n",
        "  scheduler.step()"
      ]
    },
    {
      "cell_type": "code",
      "execution_count": 11,
      "metadata": {
        "id": "yI-l6kA_EH9G"
      },
      "outputs": [
        {
          "data": {
            "image/png": "[encoded data removed]",
            "text/plain": [
              "<Figure size 432x288 with 1 Axes>"
            ]
          },
          "metadata": {
            "needs_background": "light"
          },
          "output_type": "display_data"
        },
        {
          "data": {
            "image/png": "[encoded data removed]",
            "text/plain": [
              "<Figure size 432x288 with 1 Axes>"
            ]
          },
          "metadata": {
            "needs_background": "light"
          },
          "output_type": "display_data"
        }
      ],
      "source": [
        "# Plot the results\n",
        "fig, ax = plt.subplots()\n",
        "ax.plot(errors_train,'r-',label='train')\n",
        "ax.plot(errors_test,'b-',label='test')\n",
        "ax.set_ylim(0,100); ax.set_xlim(0,n_epoch)\n",
        "ax.set_xlabel('Epoch'); ax.set_ylabel('Error')\n",
        "ax.set_title('TrainError %3.2f, Test Error %3.2f'%(errors_train[-1],errors_test[-1]))\n",
        "ax.legend()\n",
        "plt.show()\n",
        "\n",
        "# Plot the results\n",
        "fig, ax = plt.subplots()\n",
        "ax.plot(losses_train,'r-',label='train')\n",
        "ax.plot(losses_test,'b-',label='test')\n",
        "ax.set_xlim(0,n_epoch)\n",
        "ax.set_xlabel('Epoch'); ax.set_ylabel('Loss')\n",
        "ax.set_title('Train loss %3.2f, Test loss %3.2f'%(losses_train[-1],losses_test[-1]))\n",
        "ax.legend()\n",
        "plt.show()"
      ]
    },
    {
      "cell_type": "markdown",
      "metadata": {
        "id": "q-yT6re6GZS4"
      },
      "source": [
        "**TO DO**\n",
        "\n",
        "Play with the model -- try changing the number of layers, hidden units, learning rate, batch size, momentum or anything else you like.  See if you can improve the test results.\n",
        "\n",
        "Is it a good idea to optimize the hyperparameters in this way?  Will the final result be a good estimate of the true test performance?"
      ]
    }
  ],
  "metadata": {
    "accelerator": "GPU",
    "colab": {
      "authorship_tag": "ABX9TyOuKMUcKfOIhIL2qTX9jJCy",
      "gpuType": "T4",
      "include_colab_link": true,
      "provenance": []
    },
    "kernelspec": {
      "display_name": "Python 3",
      "name": "python3"
    },
    "language_info": {
      "codemirror_mode": {
        "name": "ipython",
        "version": 3
      },
      "file_extension": ".py",
      "mimetype": "text/x-python",
      "name": "python",
      "nbconvert_exporter": "python",
      "pygments_lexer": "ipython3",
      "version": "3.10.12"
    }
  },
  "nbformat": 4,
  "nbformat_minor": 0
}
